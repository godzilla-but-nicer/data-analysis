{
 "cells": [
  {
   "cell_type": "markdown",
   "id": "aa9e1f6a",
   "metadata": {},
   "source": [
    "# Building up to DataFrames\n",
    "\n",
    "In this module we will build up to the key data structure in python data\n",
    "analysis, the `pandas` DataFrame. The dataframe is essentially a spreadsheet\n",
    "and you can do extremely powerful operations when your data is stored as a\n",
    "dataframe.\n",
    "\n",
    "First, however, we need to look at a handful of other types of objects that\n",
    "can store multiple values, an abstract class that python calls \"Iterables\".\n",
    "\n",
    "## The noble list\n",
    "\n",
    "To me the list is the general workhorse of doing stuff in python. It is\n",
    "mutable meaning it can be changed after creation and it can hold objects of\n",
    "any type. Its like a typeless Vector in C++ or  an array in javascript"
   ]
  },
  {
   "cell_type": "code",
   "execution_count": 84,
   "id": "e425f6cd",
   "metadata": {},
   "outputs": [
    {
     "name": "stdout",
     "output_type": "stream",
     "text": [
      "This is my list: [1, 2.0, 3, 'four', 17]\n"
     ]
    }
   ],
   "source": [
    "# this is a list\n",
    "my_list = [1, 2.0, 3, \"four\", 17]\n",
    "print(f\"This is my list: {my_list}\")"
   ]
  },
  {
   "cell_type": "markdown",
   "id": "d3143100",
   "metadata": {},
   "source": [
    "We access elements in our list the same way we do in other languages: by\n",
    "indexing with integer values that correspond to the positions of the list\n",
    "elements. Like most other programming languages, indexing in python starts at 0.\n",
    "\n",
    "| index | value |\n",
    "| ----- | ----- |\n",
    "| 0 | 1 |\n",
    "| 1 | 2.0 |\n",
    "| 2 | 3 |\n",
    "| 3 | \"four\" |\n",
    "| 4 | 17 |\n"
   ]
  },
  {
   "cell_type": "code",
   "execution_count": 85,
   "id": "22817ca8",
   "metadata": {},
   "outputs": [
    {
     "name": "stdout",
     "output_type": "stream",
     "text": [
      "\n",
      "This is the second element in my list: 2.0\n"
     ]
    }
   ],
   "source": [
    "# lets pull out the second element of our list (index = 1)\n",
    "print(f\"\\nThis is the second element in my list: {my_list[1]}\")"
   ]
  },
  {
   "cell_type": "markdown",
   "id": "8a383e06",
   "metadata": {},
   "source": [
    "We can also grab a **slice** of a list. This is a contigious chunk of elements\n",
    "in our list. We do this inside the indexing square brackets with the syntax\n",
    "`[start_index (inclusive):end_index (exclusive)]`. Here by inclusive and\n",
    "exclusive I mean that the element at index `start_index` will be in your slice\n",
    "but the element at `end_index` will not. We will see this over and over again."
   ]
  },
  {
   "cell_type": "code",
   "execution_count": 128,
   "id": "1bfd3a1d",
   "metadata": {},
   "outputs": [
    {
     "name": "stdout",
     "output_type": "stream",
     "text": [
      "This is my slice: [2, 3]\n"
     ]
    }
   ],
   "source": [
    "print(f\"This is my slice: {my_list[1:3]}\")"
   ]
  },
  {
   "cell_type": "markdown",
   "id": "ef51ef66",
   "metadata": {},
   "source": [
    "We can also get slices without specifying a start or end part and grab the\n",
    "beginning or end of the list"
   ]
  },
  {
   "cell_type": "code",
   "execution_count": 129,
   "id": "9ebcadc8",
   "metadata": {},
   "outputs": [
    {
     "name": "stdout",
     "output_type": "stream",
     "text": [
      "Beginning slice: [1, 2]\n",
      "end slice: [3, 4, 5, 666]\n"
     ]
    }
   ],
   "source": [
    "print(f\"Beginning slice: {my_list[:2]}\")\n",
    "print(f\"end slice: {my_list[2:]}\")"
   ]
  },
  {
   "cell_type": "markdown",
   "id": "4a53db88",
   "metadata": {},
   "source": [
    "Earlier I mentioned the mutability of lists. This makes them flexible but also\n",
    "slow.\n",
    "\n",
    "For our purposes here, it means we can add elements to them. The main way is\n",
    "by a lists `append()` method which adds the new value onto the end of the list."
   ]
  },
  {
   "cell_type": "code",
   "execution_count": 86,
   "id": "1691efe4",
   "metadata": {},
   "outputs": [
    {
     "name": "stdout",
     "output_type": "stream",
     "text": [
      "\n",
      "This is my list after adding to it: [1, 2.0, 3, 'four', 17, 'six']\n"
     ]
    }
   ],
   "source": [
    "my_list.append(\"six\")\n",
    "print(f\"\\nThis is my list after adding to it: {my_list}\")"
   ]
  },
  {
   "cell_type": "markdown",
   "id": "22f76da5",
   "metadata": {},
   "source": [
    "Of course we can also remove elements from lists. We can do this either by\n",
    "index with `pop()` or by value with `remove()`"
   ]
  },
  {
   "cell_type": "code",
   "execution_count": 87,
   "id": "1a3257b7",
   "metadata": {},
   "outputs": [
    {
     "name": "stdout",
     "output_type": "stream",
     "text": [
      "\n",
      "This is my list after removing an element: [1, 3, 'four', 17, 'six']\n"
     ]
    }
   ],
   "source": [
    "# remove by index\n",
    "my_list.pop(1)\n",
    "print(f\"\\nThis is my list after removing an element: {my_list}\")"
   ]
  },
  {
   "cell_type": "code",
   "execution_count": 88,
   "id": "e79cca1d",
   "metadata": {},
   "outputs": [
    {
     "name": "stdout",
     "output_type": "stream",
     "text": [
      "\n",
      "This is my list after removing an element: [1, 3, 17, 'six']\n"
     ]
    }
   ],
   "source": [
    "# remove by value\n",
    "my_list.remove(\"four\")\n",
    "print(f\"\\nThis is my list after removing an element: {my_list}\")"
   ]
  },
  {
   "cell_type": "markdown",
   "id": "37eeb980",
   "metadata": {},
   "source": [
    "Finally in terms of changes, we can also change the value of an element in a\n",
    "list. We do this by assigning a new value to the old element with indexing"
   ]
  },
  {
   "cell_type": "code",
   "execution_count": null,
   "id": "70ce80bd",
   "metadata": {},
   "outputs": [
    {
     "name": "stdout",
     "output_type": "stream",
     "text": [
      "\n",
      "I made my 3 weird: [1, 3.0000001, 17, 'six']\n"
     ]
    }
   ],
   "source": [
    "# we can change the values in the list but reassigning the elements\n",
    "my_list[1] = 3.0000001\n",
    "print(f\"\\nI made my 3 weird: {my_list}\")"
   ]
  },
  {
   "cell_type": "markdown",
   "id": "fc28a652",
   "metadata": {},
   "source": [
    "Python calls objects that hold multiple values iterables because they can be\n",
    "iterated over. This means we can construct loops to pull out the values of\n",
    "our list one at a time. We will do this a lot.\n",
    "\n",
    "There's two main ways to do this. The first is pretty straightforward."
   ]
  },
  {
   "cell_type": "code",
   "execution_count": 94,
   "id": "2a3804d2",
   "metadata": {},
   "outputs": [
    {
     "name": "stdout",
     "output_type": "stream",
     "text": [
      "This is an element of my list: 1\n",
      "This is an element of my list: 3.0000001\n",
      "This is an element of my list: 17\n",
      "This is an element of my list: six\n"
     ]
    }
   ],
   "source": [
    "# directly iterate over our list\n",
    "for elem in my_list:\n",
    "    print(f\"This is an element of my list: {elem}\")"
   ]
  },
  {
   "cell_type": "markdown",
   "id": "fd3854b3",
   "metadata": {},
   "source": [
    "The second way we can do this is by iterating over the `enumerate()` function\n",
    "called on our list. This gives us two for loop variables, the index of each\n",
    "element and the value of each element."
   ]
  },
  {
   "cell_type": "code",
   "execution_count": 95,
   "id": "7a6661d7",
   "metadata": {},
   "outputs": [
    {
     "name": "stdout",
     "output_type": "stream",
     "text": [
      "At index 0 the value of the list is 1\n",
      "At index 1 the value of the list is 3.0000001\n",
      "At index 2 the value of the list is 17\n",
      "At index 3 the value of the list is six\n"
     ]
    }
   ],
   "source": [
    "for index, value in enumerate(my_list):\n",
    "    print(f\"At index {index} the value of the list is {value}\")"
   ]
  },
  {
   "cell_type": "markdown",
   "id": "376227c9",
   "metadata": {},
   "source": [
    "You will see both often, along with an older idiom (`for i in range(my_list):`)\n",
    "that gives you just the index.\n",
    "\n",
    "Lists are incredibly important because they are just all over the place. We\n",
    "will see and use them over and over again. Strictly speaking, we could do data\n",
    "analysis only with lists but it would be terrible.\n",
    "\n",
    "## The tuple\n",
    "\n",
    "Tuples are alot like lists but they are immutable. They cannot be changed after\n",
    "creation which saves on memory. We probably won't be defining too many tuples\n",
    "by python itself will frequently. In fact, the reason that we have two values\n",
    "when we loop using `enumerate()` is that its returning a tuple of (index,\n",
    "value)`"
   ]
  },
  {
   "cell_type": "code",
   "execution_count": 96,
   "id": "a088a62c",
   "metadata": {},
   "outputs": [
    {
     "name": "stdout",
     "output_type": "stream",
     "text": [
      "This is my tuple: (1, 2.0, 3, 'four', 5)\n"
     ]
    }
   ],
   "source": [
    "# note parentheses rather than square braces\n",
    "my_tuple = (1, 2.0, 3, \"four\", 5)\n",
    "print(f\"This is my tuple: {my_tuple}\")"
   ]
  },
  {
   "cell_type": "markdown",
   "id": "a031c2b8",
   "metadata": {},
   "source": [
    "We index them in the usual way."
   ]
  },
  {
   "cell_type": "code",
   "execution_count": 97,
   "id": "ca160f70",
   "metadata": {},
   "outputs": [
    {
     "name": "stdout",
     "output_type": "stream",
     "text": [
      "\n",
      "This is the fourth element of my tuple: four\n"
     ]
    }
   ],
   "source": [
    "# we index tuples the same way as lists\n",
    "print(f\"\\nThis is the fourth element of my tuple: {my_tuple[3]}\")"
   ]
  },
  {
   "cell_type": "markdown",
   "id": "d12c9739",
   "metadata": {},
   "source": [
    "We iterate over them in the usual way"
   ]
  },
  {
   "cell_type": "code",
   "execution_count": 92,
   "id": "b0cfe9c4",
   "metadata": {},
   "outputs": [
    {
     "name": "stdout",
     "output_type": "stream",
     "text": [
      "\n",
      "This is an element in my tuple: 1\n",
      "This is an element in my tuple: 2.0\n",
      "This is an element in my tuple: 3\n",
      "This is an element in my tuple: four\n",
      "This is an element in my tuple: 5\n"
     ]
    }
   ],
   "source": [
    "# we can iterate over the tuple in the same way\n",
    "print(\"\")  # just a newline again\n",
    "for elem in my_tuple:\n",
    "    print(f\"This is an element in my tuple: {elem}\")"
   ]
  },
  {
   "cell_type": "markdown",
   "id": "d51df50a",
   "metadata": {},
   "source": [
    "Really, though we can't change them"
   ]
  },
  {
   "cell_type": "code",
   "execution_count": 98,
   "id": "f6d41552",
   "metadata": {},
   "outputs": [
    {
     "ename": "TypeError",
     "evalue": "'tuple' object does not support item assignment",
     "output_type": "error",
     "traceback": [
      "\u001b[31m---------------------------------------------------------------------------\u001b[39m",
      "\u001b[31mTypeError\u001b[39m                                 Traceback (most recent call last)",
      "\u001b[36mCell\u001b[39m\u001b[36m \u001b[39m\u001b[32mIn[98]\u001b[39m\u001b[32m, line 2\u001b[39m\n\u001b[32m      1\u001b[39m \u001b[38;5;66;03m# if we try to change the tuple however...\u001b[39;00m\n\u001b[32m----> \u001b[39m\u001b[32m2\u001b[39m \u001b[43mmy_tuple\u001b[49m\u001b[43m[\u001b[49m\u001b[32;43m0\u001b[39;49m\u001b[43m]\u001b[49m = \u001b[32m1.0\u001b[39m\n",
      "\u001b[31mTypeError\u001b[39m: 'tuple' object does not support item assignment"
     ]
    }
   ],
   "source": [
    "# if we try to change the tuple however...\n",
    "my_tuple[0] = 1.0"
   ]
  },
  {
   "cell_type": "markdown",
   "id": "0c35d625",
   "metadata": {},
   "source": [
    "## Dictionaries\n",
    "\n",
    "Dictionaries are mutable like lists but are unlike lists in other ways.\n",
    "Dictionaries don't have a guaranteed order. Instead, each value in a dictionary\n",
    "is given a key. When the key is used to index the dictionary, the value is\n",
    "recovered."
   ]
  },
  {
   "cell_type": "code",
   "execution_count": 105,
   "id": "4742c31d",
   "metadata": {},
   "outputs": [
    {
     "name": "stdout",
     "output_type": "stream",
     "text": [
      "This is my dict: {'a': 9, 'b': [7.45, 2.34], 'c': \"whats up this is the 'c' entry\", 'd': 6}\n"
     ]
    }
   ],
   "source": [
    "# the format is {key: value, key: value, ...}\n",
    "my_dict = {\"a\": 9, \"b\": [7.45, 2.34], \"c\": \"whats up this is the 'c' entry\", \"d\": 6}\n",
    "print(f\"This is my dict: {my_dict}\")"
   ]
  },
  {
   "cell_type": "markdown",
   "id": "8887bb68",
   "metadata": {},
   "source": [
    "As mentioned, we retrive the value by indexing with the key"
   ]
  },
  {
   "cell_type": "code",
   "execution_count": 106,
   "id": "24e293d7",
   "metadata": {},
   "outputs": [
    {
     "name": "stdout",
     "output_type": "stream",
     "text": [
      "This is the 'c' element of my dict: whats up this is the 'c' entry\n"
     ]
    }
   ],
   "source": [
    "# we access elements of dictionaries using their keys rather than an index\n",
    "print(f\"This is the 'c' element of my dict: {my_dict['c']}\")"
   ]
  },
  {
   "cell_type": "markdown",
   "id": "c242305e",
   "metadata": {},
   "source": [
    "Like lists, we can add or remove elements from our dictionaries. We probably\n",
    "won't do much dictionary stuff directly but just incase we'll take a quick\n",
    "look at changing a dictionary."
   ]
  },
  {
   "cell_type": "code",
   "execution_count": 107,
   "id": "f0df26ed",
   "metadata": {},
   "outputs": [
    {
     "name": "stdout",
     "output_type": "stream",
     "text": [
      "This is my dict after removing 'b: {'a': 9, 'c': \"whats up this is the 'c' entry\", 'd': 6}\n"
     ]
    }
   ],
   "source": [
    "# we can do some of the same things we can do with lists\n",
    "my_dict.pop(\"b\")\n",
    "print(f\"This is my dict after removing 'b: {my_dict}\")"
   ]
  },
  {
   "cell_type": "markdown",
   "id": "ed20bac7",
   "metadata": {},
   "source": [
    "We change elements like we do with lists except using keys to index of course.\n",
    "We could also add a value in this same way."
   ]
  },
  {
   "cell_type": "code",
   "execution_count": 109,
   "id": "f14feb9c",
   "metadata": {},
   "outputs": [
    {
     "name": "stdout",
     "output_type": "stream",
     "text": [
      "This is my dict after changing the 'c' element\n",
      "{'a': 9, 'c': 10, 'd': 6, 'deepmay': 25}\n"
     ]
    }
   ],
   "source": [
    "# we can also change a dictionary by directly changing an element\n",
    "my_dict['c'] = 10  # changing the 'c' value\n",
    "my_dict['deepmay'] = 25\n",
    "print(f\"This is my dict after changing the 'c' element\")\n",
    "print(my_dict)"
   ]
  },
  {
   "cell_type": "markdown",
   "id": "76958baa",
   "metadata": {},
   "source": [
    "Dicts are iterables so, of course, we can iterate over them. Typically we do\n",
    "this by iterating over `keys()` but we can iterate over pairs or values."
   ]
  },
  {
   "cell_type": "code",
   "execution_count": 110,
   "id": "d4c8ec82",
   "metadata": {},
   "outputs": [
    {
     "name": "stdout",
     "output_type": "stream",
     "text": [
      "This is a key: a\n",
      "This is the value for the key: 9\n",
      "This is a key: c\n",
      "This is the value for the key: 10\n",
      "This is a key: d\n",
      "This is the value for the key: 6\n",
      "This is a key: deepmay\n",
      "This is the value for the key: 25\n"
     ]
    }
   ],
   "source": [
    "# when we iterate over a dictionary we need to specify keys or values\n",
    "for key in my_dict.keys():\n",
    "    print(f\"This is a key: {key}\")\n",
    "    print(f\"This is the value for the key: {my_dict[key]}\")\n",
    "\n",
    "# this is how we iterate over values\n",
    "# for val in my_dict.values():\n",
    "#     print(f\"This is a value: {val}\")"
   ]
  },
  {
   "cell_type": "markdown",
   "id": "874af6bd",
   "metadata": {},
   "source": [
    "## NumPy arrays\n",
    "\n",
    "Now we're getting somewhere. Numpy arrays are like lists but better. We can do\n",
    "all kinds of things using just numpy arrays and they are uisually much, much\n",
    "faster than working with lists.\n",
    "\n",
    "There are two caveats. First, the number of elements in an array cannot change\n",
    "once the array is created. There is no `append()` and no `pop()`. Instead, we\n",
    "convert lists into numpy arrays once we have the values we want.\n",
    "\n",
    "Second, numpy arrays can only contain values of a single type. Integers (7) get\n",
    "converted to floats (7.0) if you try to combine them in a single array.\n",
    "Everything gets converted to a string if you try to combine them with strings."
   ]
  },
  {
   "cell_type": "code",
   "execution_count": 142,
   "id": "b8a03ac0",
   "metadata": {},
   "outputs": [
    {
     "name": "stdout",
     "output_type": "stream",
     "text": [
      "This is my number array: [  1.      2.      3.      4.      5.134 666.   ]\n",
      "This is my string array: ['1' '2' '3.0' '4' '5.134']\n"
     ]
    }
   ],
   "source": [
    "import numpy as np\n",
    "\n",
    "# you can make a numpy array out of a list\n",
    "my_list = [1, 2, 3.0, 4, 5.134]\n",
    "my_list.append(666)\n",
    "\n",
    "my_array = np.array(my_list)\n",
    "my_string_array = np.array([\"1\", 2, 3.0, 4, 5.134])\n",
    "print(f\"This is my number array: {my_array}\")\n",
    "print(f\"This is my string array: {my_string_array}\")"
   ]
  },
  {
   "cell_type": "markdown",
   "id": "0315919f",
   "metadata": {},
   "source": [
    "As the name suggests, numpy is for working with numbers. The array is generally\n",
    "how we do it. Numpy comes with a ton of built in math functionality."
   ]
  },
  {
   "cell_type": "code",
   "execution_count": 144,
   "id": "f737d1a1",
   "metadata": {},
   "outputs": [
    {
     "name": "stdout",
     "output_type": "stream",
     "text": [
      "The mean of my array is 113.52233333333334\n",
      "The median of my array is 3.5\n",
      "A sample from my array is ['2' '5.134' '2']\n"
     ]
    }
   ],
   "source": [
    "# some basic functionality\n",
    "print(f\"The mean of my array is {np.mean(my_array)}\")\n",
    "print(f\"The median of my array is {np.median(my_array)}\")\n",
    "print(f\"A sample from my array is {np.random.choice(my_string_array, size=3)}\")"
   ]
  },
  {
   "cell_type": "markdown",
   "id": "44101c65",
   "metadata": {},
   "source": [
    "Numpy arrays themselves support \"element-wise\" operations on their contents.\n",
    "This let's us avoid loops in many cases which makes our code work much better.\n",
    "We can iterate over arrays like we do lists, and make numerical changes to the\n",
    "values as we would any other number."
   ]
  },
  {
   "cell_type": "code",
   "execution_count": 116,
   "id": "b743edcc",
   "metadata": {},
   "outputs": [
    {
     "name": "stdout",
     "output_type": "stream",
     "text": [
      "My '+ 1' array after looping: [  2   3   4   5   6 667]\n"
     ]
    }
   ],
   "source": [
    "# copying it to refer to later\n",
    "my_loop_array = my_array.copy()\n",
    "\n",
    "for i, _ in enumerate(my_loop_array):\n",
    "    my_loop_array[i] = my_loop_array[i] + 1\n",
    "\n",
    "print(f\"My '+ 1' array after looping: {my_loop_array}\")"
   ]
  },
  {
   "cell_type": "markdown",
   "id": "f646eae5",
   "metadata": {},
   "source": [
    "However, we can simply *add one to the array* with numpy and get the same\n",
    "result. We can even add two arrays together to add corresponding elements. The\n",
    "same goes for any binary mathematical operation."
   ]
  },
  {
   "cell_type": "code",
   "execution_count": 118,
   "id": "e478750b",
   "metadata": {},
   "outputs": [
    {
     "name": "stdout",
     "output_type": "stream",
     "text": [
      "The add one array without looping: [  2   3   4   5   6 667]\n",
      "Doubling our array: [   2    4    6    8   10 1332]\n"
     ]
    }
   ],
   "source": [
    "print(f\"The add one array without looping: {my_array + 1}\")\n",
    "print(f\"Doubling our array: {my_array + my_array}\")"
   ]
  },
  {
   "cell_type": "markdown",
   "id": "2745c452",
   "metadata": {},
   "source": [
    "Numpy also let's us get dangerously close to a kind of data table. Arrays are\n",
    "not restricted to one dimension and retain the same array functionality."
   ]
  },
  {
   "cell_type": "code",
   "execution_count": 123,
   "id": "866cddc0",
   "metadata": {},
   "outputs": [
    {
     "name": "stdout",
     "output_type": "stream",
     "text": [
      "This is my fancy two-dimensional array:\n",
      "[[ 0.87916021  1.15541461 -1.36291418 -0.18567654]\n",
      " [-0.4591675   2.10887321  0.14117039 -0.14347012]\n",
      " [-0.52038534  2.45968369 -1.29579613  0.7208201 ]\n",
      " [ 0.87165973  1.41499007  0.26532429  0.14519923]\n",
      " [ 0.72334958  0.83361434 -0.47430634  0.41568891]\n",
      " [-1.16140712  0.04834652  1.4725735  -0.01824101]]\n",
      "The shape of my fancy array is (6, 4)\n"
     ]
    }
   ],
   "source": [
    "# I'll just generate some random numbers\n",
    "n_rows = 6\n",
    "n_columns = 3\n",
    "my_fancy_array = np.random.normal(size=(6, 4))\n",
    "print(f\"This is my fancy two-dimensional array:\")\n",
    "print(my_fancy_array)\n",
    "print(f\"The shape of my fancy array is {my_fancy_array.shape}\")"
   ]
  },
  {
   "cell_type": "markdown",
   "id": "118b24b8",
   "metadata": {},
   "source": [
    "We can access elements in an array like we would a list but now we need to\n",
    "provide two indices to get a particular value out. one for each **axis**."
   ]
  },
  {
   "cell_type": "code",
   "execution_count": 124,
   "id": "f3a2d2d4",
   "metadata": {},
   "outputs": [
    {
     "name": "stdout",
     "output_type": "stream",
     "text": [
      "Element (1, 3) of my fancy array is: -0.14347011648260843\n"
     ]
    }
   ],
   "source": [
    "# we can access elements in multi-dimensional arrays by using multiple indices\n",
    "print(f\"Element (1, 3) of my fancy array is: {my_fancy_array[1, 3]}\")"
   ]
  },
  {
   "cell_type": "markdown",
   "id": "d5878b66",
   "metadata": {},
   "source": [
    "If we provide only a single argument, we can slice out a single \"row\" or \"column\"\n",
    "as an array."
   ]
  },
  {
   "cell_type": "code",
   "execution_count": 130,
   "id": "8e3640eb",
   "metadata": {},
   "outputs": [
    {
     "name": "stdout",
     "output_type": "stream",
     "text": [
      "My row: [-0.52038534  2.45968369 -1.29579613  0.7208201 ]\n",
      "My column: [1.15541461 2.10887321 2.45968369 1.41499007 0.83361434 0.04834652]\n"
     ]
    }
   ],
   "source": [
    "my_row = my_fancy_array[2, :]  # the : means \"all of em\"\n",
    "my_column = my_fancy_array[:, 1]\n",
    "\n",
    "print(f\"My row: {my_row}\")\n",
    "print(f\"My column: {my_column}\")"
   ]
  },
  {
   "cell_type": "markdown",
   "id": "b8a0f49f",
   "metadata": {},
   "source": [
    "Built in numpy math functions are aware of how sick this is and their functions\n",
    "will perform operations for-each-row or for-each-column for us! Whether invoked\n",
    "explicitly or not, this is functionality we will be using constantly."
   ]
  },
  {
   "cell_type": "code",
   "execution_count": 131,
   "id": "f37e6d70",
   "metadata": {},
   "outputs": [
    {
     "name": "stdout",
     "output_type": "stream",
     "text": [
      "Sums accross 'row'-axis (per-'column'): [ 0.33320956  8.02092244 -1.25394847  0.93432057]\n",
      "Means accross 'column'-axis (per-'row'): [0.12149603 0.41185149 0.34108058 0.67429333 0.37458662 0.08531797]\n"
     ]
    }
   ],
   "source": [
    "print(f\"Sums accross 'row'-axis (per-'column'): {np.sum(my_fancy_array, axis=0)}\")\n",
    "print(f\"Means accross 'column'-axis (per-'row'): {np.mean(my_fancy_array, axis=1)}\")"
   ]
  },
  {
   "cell_type": "markdown",
   "id": "af66a2bc",
   "metadata": {},
   "source": [
    "\n",
    "in addition to the ability to do element-wise math easily and quickly\n",
    "numpy arrays give us the ability to do fancy indexing. This proves very\n",
    "important in working with real data\n",
    "#\n",
    "The first kind of fancy indexing and the most important is masking. Just\n",
    "like how numpy arrays let us do element-wise math, numpy arrays also let\n",
    "us do element-wise logic.\n",
    "\n",
    "Let's start combining things by looking for extreme values in our fancy array.\n",
    "We'll say that this is any value more than two standard deviations away from\n",
    "the mean.\n",
    "\n",
    "We're going to do this by creating a **mask** of boolean True/False values that\n",
    "is the shape of our array"
   ]
  },
  {
   "cell_type": "code",
   "execution_count": null,
   "id": "0c02eab9",
   "metadata": {},
   "outputs": [
    {
     "name": "stdout",
     "output_type": "stream",
     "text": [
      "Extreme value?\n",
      "[[False False False False]\n",
      " [False False False False]\n",
      " [False  True False False]\n",
      " [False False False False]\n",
      " [False False False False]\n",
      " [False False False False]]\n"
     ]
    }
   ],
   "source": [
    "# first we'll get the number that is our 'extreme value' threshold\n",
    "threshold = np.mean(my_fancy_array) + 2 * np.std(my_fancy_array)  # pemdas\n",
    "\n",
    "# next we;ll make a copy of our fancy array that is all positive numbers\n",
    "my_absolute_values = np.abs(my_fancy_array)\n",
    "\n",
    "# elment-wise logic\n",
    "mask = my_absolute_values > threshold\n",
    "\n",
    "print(f\"Extreme value?\")\n",
    "print(mask)"
   ]
  },
  {
   "cell_type": "markdown",
   "id": "d0f8e275",
   "metadata": {},
   "source": [
    "the key step is that we can give this mask to our array as an index to select\n",
    "only those values where the mask contains the value True. In our case we get\n",
    "only our extreme values."
   ]
  },
  {
   "cell_type": "code",
   "execution_count": 134,
   "id": "497f9077",
   "metadata": {},
   "outputs": [
    {
     "name": "stdout",
     "output_type": "stream",
     "text": [
      "extreme values from our array: [2.45968369]\n"
     ]
    }
   ],
   "source": [
    "print(f\"extreme values from our array: {my_fancy_array[mask]}\")"
   ]
  },
  {
   "cell_type": "markdown",
   "id": "45bcb25a",
   "metadata": {},
   "source": [
    "We usually won't define the mask explicitly, and instead would just give a\n",
    "logical statement in the index brackets."
   ]
  },
  {
   "cell_type": "code",
   "execution_count": 135,
   "id": "747e4d9f",
   "metadata": {},
   "outputs": [
    {
     "name": "stdout",
     "output_type": "stream",
     "text": [
      "my array elements that are greater than 1: [1.15541461 2.10887321 2.45968369 1.41499007 1.4725735 ]\n"
     ]
    }
   ],
   "source": [
    "# values greater than one\n",
    "print(f\"my array elements that are greater than 1: {my_fancy_array[my_fancy_array > 1]}\")"
   ]
  },
  {
   "cell_type": "markdown",
   "id": "7e86d1a2",
   "metadata": {},
   "source": [
    "the mask is an array of boolean true and false values. we can also use an\n",
    "array of indices. This can be useful for sorting or copying values but won't\n",
    "come up too often, sometimes sorting in this way is useful for visualization."
   ]
  },
  {
   "cell_type": "code",
   "execution_count": 146,
   "id": "da1f183a",
   "metadata": {},
   "outputs": [
    {
     "name": "stdout",
     "output_type": "stream",
     "text": [
      "Re-indexed array: [18 13 13 13]\n"
     ]
    }
   ],
   "source": [
    "my_array = np.array([13, 14, 15, 16, 17, 18])\n",
    "my_indices = np.array([-1, 0, 0, 0])  # negatives allow you to \"reverse index\"\n",
    "\n",
    "print(f\"Re-indexed array: {my_array[my_indices]}\")"
   ]
  },
  {
   "cell_type": "markdown",
   "id": "4a155de8",
   "metadata": {},
   "source": [
    "# The DataFrame"
   ]
  },
  {
   "cell_type": "code",
   "execution_count": 70,
   "id": "10f64df6",
   "metadata": {},
   "outputs": [
    {
     "name": "stdout",
     "output_type": "stream",
     "text": [
      "This is my DataFrame:\n",
      "   x         y\n",
      "0  a  1.088413\n",
      "1  b  1.283318\n",
      "2  c -0.070339\n",
      "3  d  0.611381\n",
      "4  e -0.222970\n"
     ]
    }
   ],
   "source": [
    "import pandas as pd\n",
    "\n",
    "# dataframes are amazing\n",
    "my_df = pd.DataFrame({\"x\": [\"a\", \"b\", \"c\", \"d\", \"e\"], \"y\": np.random.normal(size=5)})\n",
    "print(\"This is my DataFrame:\")\n",
    "print(my_df)"
   ]
  },
  {
   "cell_type": "code",
   "execution_count": 71,
   "id": "86690f98",
   "metadata": {},
   "outputs": [
    {
     "name": "stdout",
     "output_type": "stream",
     "text": [
      "My x column is:\n",
      "0    a\n",
      "1    b\n",
      "2    c\n",
      "3    d\n",
      "4    e\n",
      "Name: x, dtype: object\n"
     ]
    }
   ],
   "source": [
    "# we can kind of think of it a little bit like a distionary of numpy arrays\n",
    "# we call the the key-value pair a column\n",
    "print(\"My x column is:\")\n",
    "print(my_df[\"x\"])"
   ]
  },
  {
   "cell_type": "code",
   "execution_count": 73,
   "id": "48b0515e",
   "metadata": {},
   "outputs": [
    {
     "name": "stdout",
     "output_type": "stream",
     "text": [
      "   x         y\n",
      "0  a  1.088413\n",
      "1  b  1.283318\n"
     ]
    }
   ],
   "source": [
    "# we can use numpy fancy indexing to pull out specific rows\n",
    "print(my_df[my_df[\"y\"] > 1])"
   ]
  },
  {
   "cell_type": "code",
   "execution_count": null,
   "id": "4d776559",
   "metadata": {},
   "outputs": [],
   "source": []
  }
 ],
 "metadata": {
  "kernelspec": {
   "display_name": "deepy",
   "language": "python",
   "name": "python3"
  },
  "language_info": {
   "codemirror_mode": {
    "name": "ipython",
    "version": 3
   },
   "file_extension": ".py",
   "mimetype": "text/x-python",
   "name": "python",
   "nbconvert_exporter": "python",
   "pygments_lexer": "ipython3",
   "version": "3.13.5"
  }
 },
 "nbformat": 4,
 "nbformat_minor": 5
}
